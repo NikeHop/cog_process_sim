{
 "cells": [
  {
   "cell_type": "markdown",
   "metadata": {},
   "source": [
    "# BA - Psychologie \n",
    "\n",
    "Goal: The first step will be to describe a general generative process that describes whether a person succeeds on a task or not and do inference on it given fake data \n"
   ]
  },
  {
   "cell_type": "code",
   "execution_count": 4,
   "metadata": {},
   "outputs": [],
   "source": [
    "import torch\n",
    "import pyro\n"
   ]
  },
  {
   "cell_type": "code",
   "execution_count": 15,
   "metadata": {},
   "outputs": [],
   "source": [
    "def task():\n",
    "    '''\n",
    "    Simple generative process off whether someone fails a task \n",
    "    or succeds\n",
    "    '''\n",
    "    luck_skill = torch.distributions.uniform.Uniform(0,1).sample() ## how much luck/skill is needed for the task\n",
    "    difficulty = torch.distributions.Normal(0,1).sample()\n",
    "    task_importance = torch.distributions.Bernoulli(0.5).sample() # high or low \n",
    "    choice = torch.distributions.Bernoulli(0.5).sample()\n",
    "    motivation = torch.distributions.Normal(0,1).sample()\n",
    "    self_esteem = torch.distributions.Normal(0,1).sample()\n",
    "    effort = task_importance + motivation * choice + self_esteem\n",
    "    success = (difficulty < effort) if torch.distributions.Bernoulli(luck_skill).sample() else torch.distributions.Bernoulli(luck_skill).sample()\n",
    "    return int(success.item())\n",
    "\n"
   ]
  },
  {
   "cell_type": "code",
   "execution_count": 16,
   "metadata": {},
   "outputs": [
    {
     "name": "stdout",
     "output_type": "stream",
     "text": [
      "[1, 1, 1, 0, 0, 1, 0, 0, 1, 1]\n"
     ]
    }
   ],
   "source": [
    "results = []\n",
    "for _ in range(10):\n",
    "    results.append(task()) \n",
    "print(results)"
   ]
  },
  {
   "cell_type": "code",
   "execution_count": 25,
   "metadata": {},
   "outputs": [],
   "source": [
    "### Ok now we want to have observations of certain variables \n",
    "\n",
    "def task_pyro():\n",
    "    luck_skill = pyro.sample('luck', pyro.distributions.Uniform(0,1))\n",
    "    difficulty = pyro.sample('difficulty', pyro.distributions.Normal(0,1))\n",
    "    task_importance = pyro.sample('importance', pyro.distributions.Bernoulli(0.5))\n",
    "    choice = pyro.sample('choice',pyro.distributions.Bernoulli(0.5))\n",
    "    motivation = pyro.sample('motivation', pyro.distributions.Normal(0,1))\n",
    "    self_esteem = pyro.sample('self-esteem', pyro.distributions.Normal(0,1))\n",
    "    effort = task_importance + motivation * choice + self_esteem\n",
    "    decision = pyro.sample('decision',pyro.distributions.Bernoulli(luck_skill))\n",
    "    luck_result = pyro.sample('luck_result',pyro.distributions.Bernoulli(0.5))\n",
    "    success =  (difficulty<effort) if decision else luck_result\n",
    "    return int(success.item())\n"
   ]
  },
  {
   "cell_type": "code",
   "execution_count": 27,
   "metadata": {},
   "outputs": [
    {
     "name": "stdout",
     "output_type": "stream",
     "text": [
      "[1, 1, 0, 0, 1, 0, 1, 0, 0, 0]\n"
     ]
    }
   ],
   "source": [
    "result = []\n",
    "for _ in range(10):\n",
    "    result.append(task_pyro())\n",
    "print(result)"
   ]
  },
  {
   "cell_type": "markdown",
   "metadata": {},
   "source": [
    "### Conditioning our task model on the observed values \n",
    "\n",
    "What is an observed variable in our model, in terms of what does the person observe ? \n",
    "\n",
    "* task_importance \n",
    "* choice \n",
    "* success\n",
    "* motivation\n",
    "* difficulty\n"
   ]
  },
  {
   "cell_type": "code",
   "execution_count": 28,
   "metadata": {},
   "outputs": [],
   "source": [
    "obs1 = {'choice':1, 'success':0, 'motivation':1, 'task_importance':1,'difficulty':-0.5}\n",
    "conditioned_task = pyro.condition(task_pyro, data = obs1)\n"
   ]
  },
  {
   "cell_type": "code",
   "execution_count": null,
   "metadata": {},
   "outputs": [],
   "source": [
    "### Need to define a guide function to approximate the guide function. \n",
    "# Needs to have all the unobserved sample statementsand take the same input as the model\n",
    "def guide():\n",
    "    \n",
    "    \n",
    "    "
   ]
  }
 ],
 "metadata": {
  "kernelspec": {
   "display_name": "Python 3",
   "language": "python",
   "name": "python3"
  },
  "language_info": {
   "codemirror_mode": {
    "name": "ipython",
    "version": 3
   },
   "file_extension": ".py",
   "mimetype": "text/x-python",
   "name": "python",
   "nbconvert_exporter": "python",
   "pygments_lexer": "ipython3",
   "version": "3.7.3"
  }
 },
 "nbformat": 4,
 "nbformat_minor": 2
}
