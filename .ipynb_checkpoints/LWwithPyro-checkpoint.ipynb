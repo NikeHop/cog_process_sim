{
 "cells": [
  {
   "cell_type": "code",
   "execution_count": 8,
   "metadata": {},
   "outputs": [],
   "source": [
    "### Goal: Write a likelihood weighting inference algorithm for any model unsing the message inference algorithm \n",
    "\n",
    "import pyro\n",
    "import pyro.poutine.handlers"
   ]
  },
  {
   "cell_type": "code",
   "execution_count": 2,
   "metadata": {},
   "outputs": [],
   "source": [
    "sample1 = pyro.sample('sample1',pyro.distributions.Normal(0,1))"
   ]
  },
  {
   "cell_type": "code",
   "execution_count": 5,
   "metadata": {},
   "outputs": [
    {
     "ename": "AttributeError",
     "evalue": "module 'pyro' has no attribute 'PYRO_STACK'",
     "output_type": "error",
     "traceback": [
      "\u001b[0;31m---------------------------------------------------------------------------\u001b[0m",
      "\u001b[0;31mAttributeError\u001b[0m                            Traceback (most recent call last)",
      "\u001b[0;32m<ipython-input-5-2f6af2a6aeae>\u001b[0m in \u001b[0;36m<module>\u001b[0;34m\u001b[0m\n\u001b[0;32m----> 1\u001b[0;31m \u001b[0mprint\u001b[0m\u001b[0;34m(\u001b[0m\u001b[0mpyro\u001b[0m\u001b[0;34m.\u001b[0m\u001b[0mPYRO_STACK\u001b[0m\u001b[0;34m)\u001b[0m\u001b[0;34m\u001b[0m\u001b[0;34m\u001b[0m\u001b[0m\n\u001b[0m\u001b[1;32m      2\u001b[0m \u001b[0mprint\u001b[0m\u001b[0;34m(\u001b[0m\u001b[0mpyro\u001b[0m\u001b[0;34m.\u001b[0m\u001b[0mPARAM_STORE\u001b[0m\u001b[0;34m)\u001b[0m\u001b[0;34m\u001b[0m\u001b[0;34m\u001b[0m\u001b[0m\n",
      "\u001b[0;31mAttributeError\u001b[0m: module 'pyro' has no attribute 'PYRO_STACK'"
     ]
    }
   ],
   "source": [
    "print(pyro.PYRO_STACK)\n",
    "print(pyro.PARAM_STORE)"
   ]
  },
  {
   "cell_type": "code",
   "execution_count": 10,
   "metadata": {},
   "outputs": [
    {
     "data": {
      "text/plain": [
       "'versuch'"
      ]
     },
     "execution_count": 10,
     "metadata": {},
     "output_type": "execute_result"
    }
   ],
   "source": [
    "class versuch(object):\n",
    "    \n",
    "    def __init__(self,name):\n",
    "        self.name = name\n",
    "\n",
    "hello = versuch('Niklas')\n",
    "\n",
    "versuch.__name__"
   ]
  },
  {
   "cell_type": "code",
   "execution_count": 20,
   "metadata": {},
   "outputs": [],
   "source": [
    "class new(object):\n",
    "    \n",
    "    def __init__(self,name,*args):\n",
    "        self.name = name \n",
    "        self.all_arguments = (*args,)\n",
    "\n",
    "\n",
    "def new_generator(Name = 'name'):\n",
    "    return new(Name)\n",
    "        "
   ]
  },
  {
   "cell_type": "code",
   "execution_count": 22,
   "metadata": {},
   "outputs": [],
   "source": [
    "first_name = new_generator('hello')"
   ]
  },
  {
   "cell_type": "code",
   "execution_count": 23,
   "metadata": {},
   "outputs": [
    {
     "data": {
      "text/plain": [
       "'hello'"
      ]
     },
     "execution_count": 23,
     "metadata": {},
     "output_type": "execute_result"
    }
   ],
   "source": [
    "first_name.name"
   ]
  },
  {
   "cell_type": "code",
   "execution_count": 28,
   "metadata": {},
   "outputs": [],
   "source": [
    "def function_producer():\n",
    "    \n",
    "    def family(number):\n",
    "        print(f'My family has {number} member')\n",
    "    return family\n",
    "\n",
    "new_function = function_producer()\n",
    "new_function.__name__ = 'member_family'\n",
    "locals()['member_family'] = new_function"
   ]
  },
  {
   "cell_type": "code",
   "execution_count": 29,
   "metadata": {},
   "outputs": [
    {
     "name": "stdout",
     "output_type": "stream",
     "text": [
      "My family has 3 member\n"
     ]
    }
   ],
   "source": [
    "member_family(3)"
   ]
  },
  {
   "cell_type": "code",
   "execution_count": 40,
   "metadata": {},
   "outputs": [
    {
     "data": {
      "text/plain": [
       "[]"
      ]
     },
     "execution_count": 40,
     "metadata": {},
     "output_type": "execute_result"
    }
   ],
   "source": [
    "pyro.poutine.runtime._PYRO_STACK"
   ]
  },
  {
   "cell_type": "code",
   "execution_count": 35,
   "metadata": {},
   "outputs": [],
   "source": [
    "sample1 = pyro.sample('sample1',pyro.distributions.Normal(0,1))"
   ]
  },
  {
   "cell_type": "code",
   "execution_count": 37,
   "metadata": {},
   "outputs": [],
   "source": [
    "def generative_model():\n",
    "    z =  pyro.sample('sample1',pyro.distributions.Normal(0,1))\n",
    "    return 2*z "
   ]
  },
  {
   "cell_type": "code",
   "execution_count": 39,
   "metadata": {},
   "outputs": [],
   "source": [
    "cod_model = pyro.condition(generative_model,data = {'sample1':2})"
   ]
  },
  {
   "cell_type": "code",
   "execution_count": 52,
   "metadata": {},
   "outputs": [
    {
     "data": {
      "text/plain": [
       "4"
      ]
     },
     "execution_count": 52,
     "metadata": {},
     "output_type": "execute_result"
    }
   ],
   "source": [
    "cod_model()"
   ]
  },
  {
   "cell_type": "code",
   "execution_count": 57,
   "metadata": {},
   "outputs": [
    {
     "name": "stdout",
     "output_type": "stream",
     "text": [
      "[<pyro.poutine.messenger.Messenger object at 0x11f78eb00>]\n"
     ]
    }
   ],
   "source": [
    "messenger = pyro.poutine.messenger.Messenger()\n",
    "with messenger:\n",
    "    print(pyro.poutine.runtime._PYRO_STACK)"
   ]
  },
  {
   "cell_type": "code",
   "execution_count": 58,
   "metadata": {},
   "outputs": [
    {
     "data": {
      "text/plain": [
       "[]"
      ]
     },
     "execution_count": 58,
     "metadata": {},
     "output_type": "execute_result"
    }
   ],
   "source": [
    "pyro.poutine.runtime._PYRO_STACK\n"
   ]
  },
  {
   "cell_type": "code",
   "execution_count": 47,
   "metadata": {},
   "outputs": [
    {
     "data": {
      "text/plain": [
       "'depp'"
      ]
     },
     "execution_count": 47,
     "metadata": {},
     "output_type": "execute_result"
    }
   ],
   "source": [
    "### Trying to implement a descriptor \n",
    "\n",
    "class one_character_not_z():\n",
    "    def __init__(self,c):\n",
    "        self.c = c\n",
    "        \n",
    "    def __get__(self,instance,owner):\n",
    "        # instance is the obejct that has the descriptor\n",
    "        # owner is the type of the object that has the descriptor\n",
    "        if not isinstance(instance,depp):\n",
    "            return self.c\n",
    "        else:\n",
    "            return 'depp'\n",
    "        \n",
    "class depp():\n",
    "    char = one_character_not_z('a')\n",
    "    \n",
    "depp1 = depp()\n",
    "depp1.char\n",
    "        "
   ]
  },
  {
   "cell_type": "code",
   "execution_count": 60,
   "metadata": {},
   "outputs": [
    {
     "data": {
      "text/plain": [
       "True"
      ]
     },
     "execution_count": 60,
     "metadata": {},
     "output_type": "execute_result"
    }
   ],
   "source": [
    "dictt  = {'a':3}\n",
    "'a' in dictt"
   ]
  },
  {
   "cell_type": "code",
   "execution_count": 63,
   "metadata": {},
   "outputs": [
    {
     "name": "stdout",
     "output_type": "stream",
     "text": [
      "['Niklas', 'Lena']\n",
      "[]\n"
     ]
    }
   ],
   "source": [
    "def nameList(names):\n",
    "    for elem in names:\n",
    "        yield elem\n",
    "generator = nameList(['Niklas','Lena'])\n",
    "print(list(generator))\n",
    "print(list(generator)) # empty "
   ]
  },
  {
   "cell_type": "code",
   "execution_count": 66,
   "metadata": {},
   "outputs": [
    {
     "name": "stdout",
     "output_type": "stream",
     "text": [
      "{}\n"
     ]
    }
   ],
   "source": [
    "def versuch(**kwargs):\n",
    "    print(kwargs)\n",
    "    \n",
    "versuch()"
   ]
  },
  {
   "cell_type": "code",
   "execution_count": 70,
   "metadata": {},
   "outputs": [
    {
     "data": {
      "text/plain": [
       "tensor(0)"
      ]
     },
     "execution_count": 70,
     "metadata": {},
     "output_type": "execute_result"
    }
   ],
   "source": [
    "import torch \n",
    "\n",
    "ten = torch.tensor(3)\n",
    "ten.new_zeros(())"
   ]
  },
  {
   "cell_type": "code",
   "execution_count": 75,
   "metadata": {},
   "outputs": [
    {
     "name": "stdout",
     "output_type": "stream",
     "text": [
      "tensor([[False, False,  True, False],\n",
      "        [ True,  True, False,  True],\n",
      "        [False, False,  True,  True],\n",
      "        [ True, False, False, False]], dtype=torch.bool)\n",
      "<class 'torch.Tensor'>\n"
     ]
    },
    {
     "data": {
      "text/plain": [
       "tensor([[0, 0, 2, 0],\n",
       "        [2, 2, 0, 2],\n",
       "        [0, 0, 2, 2],\n",
       "        [2, 0, 0, 0]])"
      ]
     },
     "execution_count": 75,
     "metadata": {},
     "output_type": "execute_result"
    }
   ],
   "source": [
    "import numpy as np \n",
    "\n",
    "mask= np.random.randn(4,4) > np.random.randn(4,4)\n",
    "\n",
    "\n",
    "mask = torch.tensor(mask)\n",
    "print(mask)\n",
    "print(type(mask))\n",
    "torch.where(mask,torch.tensor(2),torch.tensor(0))"
   ]
  },
  {
   "cell_type": "code",
   "execution_count": 77,
   "metadata": {},
   "outputs": [
    {
     "data": {
      "text/plain": [
       "'male'"
      ]
     },
     "execution_count": 77,
     "metadata": {},
     "output_type": "execute_result"
    }
   ],
   "source": [
    "from collections import namedtuple\n",
    "\n",
    "Person = namedtuple('Person',['age','gender'])\n",
    "person1 = Person(14,'male')\n",
    "person1.gender\n"
   ]
  },
  {
   "cell_type": "code",
   "execution_count": 105,
   "metadata": {},
   "outputs": [],
   "source": [
    "### Define your own model. Collect the trace and do some calculation with it \n",
    "### Beta-Binomial model \n",
    "import torch\n",
    "import pyro.poutine as poutine\n",
    "\n",
    "def beta_binomial_model(n):\n",
    "    theta = pyro.sample('theta',pyro.distributions.Beta(5,10))\n",
    "    k = pyro.sample('successes',pyro.distributions.Binomial(torch.tensor(n,dtype=torch.float32),theta))\n",
    "    return k \n",
    "\n",
    "trace_dataStructure = poutine.trace(model1).get_trace(10)\n",
    "\n",
    "    "
   ]
  },
  {
   "cell_type": "code",
   "execution_count": 83,
   "metadata": {},
   "outputs": [
    {
     "data": {
      "text/plain": [
       "tensor(-0.2822)"
      ]
     },
     "execution_count": 83,
     "metadata": {},
     "output_type": "execute_result"
    }
   ],
   "source": [
    "#### What can we do with the trace_data structure now\n",
    "#### Compute the log_likelihood of a single trace\n",
    "\n",
    "trace_dataStructure.log_prob_sum()"
   ]
  },
  {
   "cell_type": "code",
   "execution_count": 84,
   "metadata": {},
   "outputs": [
    {
     "data": {
      "text/plain": [
       "OrderedDict([('_INPUT',\n",
       "              {'name': '_INPUT', 'type': 'args', 'args': (10,), 'kwargs': {}}),\n",
       "             ('theta',\n",
       "              {'type': 'sample',\n",
       "               'name': 'theta',\n",
       "               'fn': Beta(),\n",
       "               'is_observed': False,\n",
       "               'args': (),\n",
       "               'kwargs': {},\n",
       "               'value': tensor(0.2216),\n",
       "               'infer': {},\n",
       "               'scale': 1.0,\n",
       "               'mask': None,\n",
       "               'cond_indep_stack': (),\n",
       "               'done': True,\n",
       "               'stop': False,\n",
       "               'continuation': None,\n",
       "               'log_prob_sum': tensor(0.9289)}),\n",
       "             ('successes',\n",
       "              {'type': 'sample',\n",
       "               'name': 'successes',\n",
       "               'fn': Binomial(total_count: 10.0, probs: 0.22156059741973877, logits: -1.2565948963165283),\n",
       "               'is_observed': False,\n",
       "               'args': (),\n",
       "               'kwargs': {},\n",
       "               'value': tensor(2.),\n",
       "               'infer': {},\n",
       "               'scale': 1.0,\n",
       "               'mask': None,\n",
       "               'cond_indep_stack': (),\n",
       "               'done': True,\n",
       "               'stop': False,\n",
       "               'continuation': None,\n",
       "               'log_prob_sum': tensor(-1.2112)}),\n",
       "             ('_RETURN',\n",
       "              {'name': '_RETURN', 'type': 'return', 'value': tensor(2.)})])"
      ]
     },
     "execution_count": 84,
     "metadata": {},
     "output_type": "execute_result"
    }
   ],
   "source": [
    "trace_dataStructure.nodes"
   ]
  },
  {
   "cell_type": "code",
   "execution_count": 100,
   "metadata": {},
   "outputs": [
    {
     "name": "stdout",
     "output_type": "stream",
     "text": [
      "tensor(-1.4051)\n"
     ]
    },
    {
     "data": {
      "text/plain": [
       "OrderedDict([('_INPUT',\n",
       "              {'name': '_INPUT', 'type': 'args', 'args': (10,), 'kwargs': {}}),\n",
       "             ('theta',\n",
       "              {'type': 'sample',\n",
       "               'name': 'theta',\n",
       "               'fn': Beta(),\n",
       "               'is_observed': False,\n",
       "               'args': (),\n",
       "               'kwargs': {},\n",
       "               'value': tensor(0.3677),\n",
       "               'infer': {},\n",
       "               'scale': 1.0,\n",
       "               'mask': None,\n",
       "               'cond_indep_stack': (),\n",
       "               'done': True,\n",
       "               'stop': False,\n",
       "               'continuation': None,\n",
       "               'log_prob_sum': tensor(1.0837)}),\n",
       "             ('successes',\n",
       "              {'type': 'sample',\n",
       "               'name': 'successes',\n",
       "               'fn': Binomial(total_count: 10.0, probs: 0.36774685978889465, logits: -0.5418950319290161),\n",
       "               'is_observed': True,\n",
       "               'args': (),\n",
       "               'kwargs': {},\n",
       "               'value': tensor(4.),\n",
       "               'infer': {},\n",
       "               'scale': 1.0,\n",
       "               'mask': None,\n",
       "               'cond_indep_stack': (),\n",
       "               'done': True,\n",
       "               'stop': False,\n",
       "               'continuation': None,\n",
       "               'log_prob_sum': tensor(-1.4051)}),\n",
       "             ('_RETURN',\n",
       "              {'name': '_RETURN', 'type': 'return', 'value': tensor(4.)})])"
      ]
     },
     "execution_count": 100,
     "metadata": {},
     "output_type": "execute_result"
    }
   ],
   "source": [
    "### Putting a conditione model into the trace and looking at the data structure after a run \n",
    "\n",
    "## we condition the model1 (Beta-Binomial model) on the number of successes\n",
    "\n",
    "cond_beta_binomial = pyro.condition(model1,data = {'successes':torch.tensor(4,dtype=torch.float32)})\n",
    "trace_data_struc = poutine.trace(cond_beta_binomial).get_trace(10)\n",
    "#trace_data_struc.nodes\n",
    "\n",
    "trace_data_struc.log_prob_sum()\n",
    "trace_data_struc.nodes\n",
    "\n",
    "### For LikelihoodWeighting we need all observed nodes and calculate \n",
    "### the prodcut of their probabilities\n",
    "\n",
    "## Collect all the log probabilities of the observed notes in a list \n",
    "observed_nodes = trace_data_struc.observation_nodes\n",
    "log_prob = sum([trace_data_struc.nodes[elem]['log_prob_sum'] for elem in observed_nodes])\n",
    "print(log_prob)\n",
    "trace_data_struc.nodes"
   ]
  },
  {
   "cell_type": "code",
   "execution_count": 132,
   "metadata": {},
   "outputs": [],
   "source": [
    "### LW inference class: \n",
    "from collections import defaultdict\n",
    "import numpy as np \n",
    "\n",
    "class LW():\n",
    "    \n",
    "    def __init__(self,model,observation,r = lambda x:x):\n",
    "    \n",
    "        '''\n",
    "        model - function/generative process containing primitives (stochastic/deterministic)\n",
    "        observation - dictionary with the variables observed - the observed values must be torch.tensors \n",
    "        r - function to apply to the latent variables (identity function)\n",
    "        *args are the model parameters \n",
    "        **kwargs are the model keyword parameters\n",
    "        '''\n",
    "        \n",
    "        self.model = model\n",
    "        self.observation = observation \n",
    "        self.r = r\n",
    "    \n",
    "    def inferLW(self,L,*args,**kwargs):\n",
    "        \n",
    "        '''\n",
    "        Input: L number of MC samples to get estimate\n",
    "        Output: return estimate of the latent variables \n",
    "        (Side comment: If we have estimates for the parameters of a parameterized distribution we have a posterior from which we can sample)\n",
    "        \n",
    "        '''\n",
    "        \n",
    "        ### Condition the model on the observation \n",
    "        cond_model = pyro.condition(self.model,data = self.observation)\n",
    "        logWs = []\n",
    "        estimates = defaultdict(list)\n",
    "        for _ in range(L):\n",
    "            trace_DS = poutine.trace(cond_model).get_trace(*args,**kwargs)\n",
    "            trace_DS.log_prob_sum()\n",
    "            ### Get the observational nodes from the data structure\n",
    "            obs_nodes = trace_DS.observation_nodes\n",
    "            logWs.append(sum([trace_DS.nodes[elem]['log_prob_sum'] for elem in obs_nodes]))\n",
    "            ### Add the samples of the latent variables \n",
    "            __ = [estimates[elem].append(trace_DS.nodes[elem]['value']) for elem in trace_DS.stochastic_nodes]\n",
    "        ### Take the weighted average and apply r to the latent varibales \n",
    "        logWs = [np.exp(elem) for elem in logWs]\n",
    "        logW_sum= sum(logWs)\n",
    "        weights = np.array(logWs)/logW_sum.item() # can divide by tensor\n",
    "        for key in estimates.keys():\n",
    "            estimates[key] = sum(self.r(np.array(estimates[key])) * weights)\n",
    "        return estimates, logW_sum  "
   ]
  },
  {
   "cell_type": "code",
   "execution_count": 133,
   "metadata": {},
   "outputs": [
    {
     "data": {
      "text/plain": [
       "(defaultdict(list, {'theta': 0.362669907350778}), tensor(177.2430))"
      ]
     },
     "execution_count": 133,
     "metadata": {},
     "output_type": "execute_result"
    }
   ],
   "source": [
    "### Trying our LW inference on the beta-binomial model \n",
    "L = 1000\n",
    "n = 10 \n",
    "beta_binomial = LW(beta_binomial_model,{'successes':torch.tensor(4,dtype=torch.float32)})\n",
    "beta_binomial.inferLW(L,n)\n",
    "\n",
    "\n",
    "    "
   ]
  },
  {
   "cell_type": "code",
   "execution_count": 119,
   "metadata": {},
   "outputs": [
    {
     "data": {
      "text/plain": [
       "tensor(4)"
      ]
     },
     "execution_count": 119,
     "metadata": {},
     "output_type": "execute_result"
    }
   ],
   "source": [
    "a = [torch.tensor(6),torch.tensor(-2)]\n",
    "sum(a)"
   ]
  },
  {
   "cell_type": "code",
   "execution_count": 130,
   "metadata": {},
   "outputs": [
    {
     "name": "stdout",
     "output_type": "stream",
     "text": [
      "0.36\n"
     ]
    }
   ],
   "source": [
    "### What estimate should we get ?\n",
    "n = 10\n",
    "a = 5 # old parameter\n",
    "b = 10 # old parameter \n",
    "k = 4 # number of success \n",
    "p = a + k\n",
    "q = b + n-k\n",
    "exp = p/(p+q)\n",
    "print(exp)"
   ]
  },
  {
   "cell_type": "code",
   "execution_count": null,
   "metadata": {},
   "outputs": [],
   "source": [
    "### We implemented our first inference algorithm!\n",
    "### Next we need to design the models we want to test against each other \n",
    "### Then we need to look for experiments and how we can form these model into generative processes for the experiments \n",
    "### Then we need to try to do inference on these models!\n",
    "\n"
   ]
  }
 ],
 "metadata": {
  "kernelspec": {
   "display_name": "Python 3",
   "language": "python",
   "name": "python3"
  },
  "language_info": {
   "codemirror_mode": {
    "name": "ipython",
    "version": 3
   },
   "file_extension": ".py",
   "mimetype": "text/x-python",
   "name": "python",
   "nbconvert_exporter": "python",
   "pygments_lexer": "ipython3",
   "version": "3.7.3"
  }
 },
 "nbformat": 4,
 "nbformat_minor": 2
}
